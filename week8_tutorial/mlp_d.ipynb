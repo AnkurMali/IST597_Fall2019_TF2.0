{
  "nbformat": 4,
  "nbformat_minor": 0,
  "metadata": {
    "colab": {
      "name": "mlp_d.ipynb",
      "provenance": []
    },
    "kernelspec": {
      "name": "python3",
      "display_name": "Python 3"
    }
  },
  "cells": [
    {
      "cell_type": "markdown",
      "metadata": {
        "id": "WT_mUZuJ1Dkd",
        "colab_type": "text"
      },
      "source": [
        "# IST597:- Multi-layer Perceptron\n",
        "#Week 8 tutorial\n",
        "Building your first MLP with dropout in eager\n",
        "Author :- aam35"
      ]
    },
    {
      "cell_type": "code",
      "metadata": {
        "id": "NHud-3qi00xt",
        "colab_type": "code",
        "colab": {
          "base_uri": "https://localhost:8080/",
          "height": 89
        },
        "outputId": "0b6f7604-9076-4271-d9f2-40b3c8fb226a"
      },
      "source": [
        "# -*- coding: utf-8 -*-\n",
        "\"\"\"\n",
        "Author:-aam35\n",
        "\"\"\"\n",
        "\n",
        "import numpy as np\n",
        "import os\n",
        "import sys\n",
        "import tensorflow as tf\n",
        "from tensorflow.examples.tutorials.mnist import input_data\n",
        "import time\n",
        "tf.enable_eager_execution()\n",
        "tf.executing_eagerly()\n",
        "\n",
        "# random seed to get the consistent result\n",
        "tf.random.set_random_seed(1234)\n",
        "\n",
        "data = input_data.read_data_sets(\"data/MNIST_data/\", one_hot=True)\n",
        "\n",
        "\n",
        "minibatch_size = 32\n",
        "learning_rate = 0.01"
      ],
      "execution_count": 2,
      "outputs": [
        {
          "output_type": "stream",
          "text": [
            "Extracting data/MNIST_data/train-images-idx3-ubyte.gz\n",
            "Extracting data/MNIST_data/train-labels-idx1-ubyte.gz\n",
            "Extracting data/MNIST_data/t10k-images-idx3-ubyte.gz\n",
            "Extracting data/MNIST_data/t10k-labels-idx1-ubyte.gz\n"
          ],
          "name": "stdout"
        }
      ]
    },
    {
      "cell_type": "code",
      "metadata": {
        "id": "ebXrKE8p1wvU",
        "colab_type": "code",
        "colab": {}
      },
      "source": [
        "## model 2\n",
        "size_input = 784 # MNIST data input (img shape: 28*28)\n",
        "size_hidden = 256\n",
        "size_output = 10 # MNIST total classes (0-9 digits)\n",
        "\n",
        "\n",
        "# Define class to build mlp model\n",
        "class MLP_2(object):\n",
        "    def __init__(self, size_input, size_hidden, size_output, device=None):\n",
        "        \"\"\"\n",
        "        size_input: int, size of input layer\n",
        "        size_hidden: int, size of hidden layer\n",
        "        size_output: int, size of output layer\n",
        "        device: str or None, either 'cpu' or 'gpu' or None. If None, the device to be used will be decided automatically during Eager Execution\n",
        "        \"\"\"\n",
        "        self.size_input, self.size_hidden, self.size_output, self.device =\\\n",
        "        size_input, size_hidden, size_output, device\n",
        "    \n",
        "        # Initialize weights between input layer and hidden layer\n",
        "        self.W1 = tf.Variable(tf.random_normal([self.size_input, self.size_hidden],stddev=0.1),name=\"W_1\")\n",
        "        # Initialize biases for hidden layer\n",
        "        self.b1 = tf.Variable(tf.zeros([1, self.size_hidden]), name = \"b_1\")\n",
        "        # Initialize weights between hidden layer and output layer\n",
        "        self.W2 = tf.Variable(tf.random_normal([self.size_hidden, self.size_output],stddev=0.1),name=\"W_2\")\n",
        "        # Initialize biases for output layer\n",
        "        self.b2 = tf.Variable(tf.random_normal([1, self.size_output]),name=\"b_2\")\n",
        "    \n",
        "\n",
        "        \n",
        "        # Define variables to be updated during backpropagation\n",
        "        self.variables = [self.W1, self.b1,self.W2, self.b2]\n",
        "        \n",
        "    \n",
        "    # prediction\n",
        "    def forward(self, X):\n",
        "        \"\"\"\n",
        "        forward pass\n",
        "        X: Tensor, inputs\n",
        "        \"\"\"\n",
        "        if self.device is not None:\n",
        "            with tf.device('gpu:0' if self.device=='gpu' else 'cpu'):\n",
        "                self.y = self.compute_output(X)\n",
        "        else:\n",
        "            self.y = self.compute_output(X)\n",
        "      \n",
        "        return self.y\n",
        "    \n",
        "    ## loss function\n",
        "    def loss(self, y_pred, y_true):\n",
        "        '''\n",
        "        y_pred - Tensor of shape (batch_size, size_output)\n",
        "        y_true - Tensor of shape (batch_size, size_output)\n",
        "        '''\n",
        "        y_true_tf = tf.cast(tf.reshape(y_true, (-1, self.size_output)), dtype=tf.float32)\n",
        "        y_pred_tf = tf.cast(y_pred, dtype=tf.float32)\n",
        "        return tf.reduce_mean(tf.nn.softmax_cross_entropy_with_logits_v2(logits=y_pred_tf, labels=y_true_tf))\n",
        "        \n",
        "  \n",
        "    def backward(self, X_train, y_train):\n",
        "        \"\"\"\n",
        "        backward pass\n",
        "        \"\"\"\n",
        "        # optimizer\n",
        "        # Test with SGD,Adam, RMSProp\n",
        "        optimizer = tf.train.GradientDescentOptimizer(learning_rate=learning_rate)\n",
        "        #optimizer = tf.train.AdamOptimizer(learning_rate=learning_rate)\n",
        "        with tf.GradientTape() as tape:\n",
        "            predicted = self.forward(X_train)\n",
        "            current_loss = self.loss(predicted, y_train)\n",
        "        grads = tape.gradient(current_loss, self.variables)\n",
        "        optimizer.apply_gradients(zip(grads, self.variables),\n",
        "                              global_step=tf.train.get_or_create_global_step())\n",
        "        \n",
        "        \n",
        "    def compute_output(self, X):\n",
        "        \"\"\"\n",
        "        Custom method to obtain output tensor during forward pass\n",
        "        \"\"\"\n",
        "        # Cast X to float32\n",
        "        X_tf = tf.cast(X, dtype=tf.float32)\n",
        "        #Remember to normalize your dataset before moving forward\n",
        "        # Compute values in hidden layer\n",
        "        what = tf.matmul(X_tf, self.W1) + self.b1\n",
        "        hhat = tf.nn.relu(what)\n",
        "        hhat_tilda = tf.compat.v1.nn.dropout(hhat,rate=0.2)\n",
        "        # Compute output\n",
        "        output = tf.matmul(hhat_tilda, self.W2) + self.b2\n",
        "        #Now consider two things , First look at inbuild loss functions if they work with softmax or not and then change this\n",
        "        #Second add tf.Softmax(output) and then return this variable\n",
        "        #print(output)\n",
        "        return (output)\n",
        "        #return output\n"
      ],
      "execution_count": 0,
      "outputs": []
    },
    {
      "cell_type": "code",
      "metadata": {
        "id": "6SX4RQT_12Hg",
        "colab_type": "code",
        "colab": {}
      },
      "source": [
        "def accuracy_function(yhat,true_y):\n",
        "  correct_prediction = tf.equal(tf.argmax(yhat, 1), tf.argmax(true_y, 1))\n",
        "  accuracy = tf.reduce_mean(tf.cast(correct_prediction, tf.float32))\n",
        "  return accuracy"
      ],
      "execution_count": 0,
      "outputs": []
    },
    {
      "cell_type": "code",
      "metadata": {
        "id": "b_2-0d2v18Ld",
        "colab_type": "code",
        "colab": {
          "base_uri": "https://localhost:8080/",
          "height": 504
        },
        "outputId": "ae724195-1eeb-4f55-80f8-b5c08e36eb54"
      },
      "source": [
        "# Initialize model using GPU\n",
        "mlp_on_cpu = MLP_2(size_input, size_hidden, size_output, device='cpu')\n",
        "\n",
        "num_epochs = 8\n",
        "\n",
        "time_start = time.time()\n",
        "num_train = 55000\n",
        "\n",
        "\n",
        "for epoch in range(num_epochs):\n",
        "        train_ds = tf.data.Dataset.from_tensor_slices((data.train.images, data.train.labels)).map(lambda x, y: (x, tf.cast(y, tf.float32)))\\\n",
        "           .shuffle(buffer_size=1000)\\\n",
        "           .batch(batch_size=minibatch_size)\n",
        "        loss_total = tf.Variable(0, dtype=tf.float32)\n",
        "        for inputs, outputs in train_ds:\n",
        "            preds = mlp_on_cpu.forward(inputs)\n",
        "            loss_total = loss_total + mlp_on_cpu.loss(preds, outputs)\n",
        "            mlp_on_cpu.backward(inputs, outputs)\n",
        "        print('Number of Epoch = {} - loss:= {:.4f}'.format(epoch + 1, loss_total.numpy() / num_train))\n",
        "        preds = mlp_on_cpu.compute_output(data.train.images)\n",
        "        accuracy_train = accuracy_function(preds,data.train.labels)\n",
        "        accuracy_train = accuracy_train * 100\n",
        "        print (\"Training Accuracy = {}\".format(accuracy_train.numpy()))\n",
        "        \n",
        "        preds_val = mlp_on_cpu.compute_output(data.validation.images)\n",
        "        accuracy_val = accuracy_function(preds_val,data.validation.labels)\n",
        "        accuracy_val = accuracy_val * 100\n",
        "        print (\"Validation Accuracy = {}\".format(accuracy_val.numpy()))\n",
        " \n",
        "    \n",
        "# test accuracy\n",
        "preds_test = mlp_on_cpu.compute_output(data.test.images)\n",
        "accuracy_test = accuracy_function(preds_test,data.test.labels)\n",
        "# To keep sizes compatible with model\n",
        "accuracy_test = accuracy_test * 100\n",
        "print (\"Test Accuracy = {}\".format(accuracy_test.numpy()))\n",
        "\n",
        "        \n",
        "time_taken = time.time() - time_start\n",
        "print('\\nTotal time taken (in seconds): {:.2f}'.format(time_taken))\n",
        "#For per epoch_time = Total_Time / Number_of_epochs"
      ],
      "execution_count": 7,
      "outputs": [
        {
          "output_type": "stream",
          "text": [
            "Number of Epoch = 1 - loss:= 0.0208\n",
            "Training Accuracy = 87.4618148803711\n",
            "Validation Accuracy = 87.94000244140625\n",
            "Number of Epoch = 2 - loss:= 0.0118\n",
            "Training Accuracy = 89.81090545654297\n",
            "Validation Accuracy = 90.81999969482422\n",
            "Number of Epoch = 3 - loss:= 0.0100\n",
            "Training Accuracy = 91.29090881347656\n",
            "Validation Accuracy = 91.72000122070312\n",
            "Number of Epoch = 4 - loss:= 0.0089\n",
            "Training Accuracy = 91.97090911865234\n",
            "Validation Accuracy = 92.91999816894531\n",
            "Number of Epoch = 5 - loss:= 0.0081\n",
            "Training Accuracy = 92.81818389892578\n",
            "Validation Accuracy = 93.05999755859375\n",
            "Number of Epoch = 6 - loss:= 0.0075\n",
            "Training Accuracy = 93.28545379638672\n",
            "Validation Accuracy = 93.62000274658203\n",
            "Number of Epoch = 7 - loss:= 0.0070\n",
            "Training Accuracy = 93.76000213623047\n",
            "Validation Accuracy = 94.27999877929688\n",
            "Number of Epoch = 8 - loss:= 0.0066\n",
            "Training Accuracy = 94.06181335449219\n",
            "Validation Accuracy = 94.77999877929688\n",
            "Test Accuracy = 94.29000091552734\n",
            "\n",
            "Total time taken (in seconds): 200.06\n"
          ],
          "name": "stdout"
        }
      ]
    },
    {
      "cell_type": "markdown",
      "metadata": {
        "id": "8pO8GCok3BAK",
        "colab_type": "text"
      },
      "source": [
        "# Things to do\n",
        "* Change dropout rate\n",
        "* Is dropout always beneficial? If not when do you think it is beneficial[Explore this practically or theoretically, Publish your findings]\n",
        "* Effect of dropout on deeper model vs shallow model."
      ]
    }
  ]
}