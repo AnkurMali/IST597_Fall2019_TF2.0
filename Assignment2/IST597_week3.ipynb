{
  "nbformat": 4,
  "nbformat_minor": 0,
  "metadata": {
    "colab": {
      "name": "IST597_week3.ipynb",
      "version": "0.3.2",
      "provenance": [],
      "collapsed_sections": [],
      "include_colab_link": true
    },
    "kernelspec": {
      "name": "python3",
      "display_name": "Python 3"
    },
    "accelerator": "GPU"
  },
  "cells": [
    {
      "cell_type": "markdown",
      "metadata": {
        "id": "view-in-github",
        "colab_type": "text"
      },
      "source": [
        "<a href=\"https://colab.research.google.com/github/AnkurMali/IST597_Fall2019_TF2.0/blob/master/IST597_week3.ipynb\" target=\"_parent\"><img src=\"https://colab.research.google.com/assets/colab-badge.svg\" alt=\"Open In Colab\"/></a>"
      ]
    },
    {
      "cell_type": "markdown",
      "metadata": {
        "id": "M7r1fJQniHj7",
        "colab_type": "text"
      },
      "source": [
        "# Tutorial IST597:- Intro to Eager Execution"
      ]
    },
    {
      "cell_type": "markdown",
      "metadata": {
        "id": "CiwZoGf85dnU",
        "colab_type": "text"
      },
      "source": [
        "# Enabling Eager Execution \n",
        "In version 2.0 eager execution is set TRUE by default.For all other versions $<1.7$ enable using tf.enable_eager_execution()"
      ]
    },
    {
      "cell_type": "code",
      "metadata": {
        "id": "jlnQG8hC-uCg",
        "colab_type": "code",
        "colab": {}
      },
      "source": [
        "import tensorflow as tf\n",
        "\n",
        "tf.enable_eager_execution()"
      ],
      "execution_count": 0,
      "outputs": []
    },
    {
      "cell_type": "markdown",
      "metadata": {
        "id": "8Fq5Gb135Z5f",
        "colab_type": "text"
      },
      "source": [
        "Check if eager execution is enabled or not"
      ]
    },
    {
      "cell_type": "code",
      "metadata": {
        "id": "kS7er1hy-7yO",
        "colab_type": "code",
        "outputId": "10afc19a-a20c-4176-a2c5-3ec09a389be5",
        "colab": {
          "base_uri": "https://localhost:8080/",
          "height": 35
        }
      },
      "source": [
        "tf.executing_eagerly()\n",
        "tf.__version__"
      ],
      "execution_count": 4,
      "outputs": [
        {
          "output_type": "execute_result",
          "data": {
            "text/plain": [
              "'1.14.0'"
            ]
          },
          "metadata": {
            "tags": []
          },
          "execution_count": 4
        }
      ]
    },
    {
      "cell_type": "markdown",
      "metadata": {
        "id": "UC6X5Y844_E-",
        "colab_type": "text"
      },
      "source": [
        "# Executing tf Ops Eagerly \n",
        "More pythonic : Since by perfoming operations we can see the output directly.\n",
        "No Session"
      ]
    },
    {
      "cell_type": "code",
      "metadata": {
        "id": "DmwZJKlA_B15",
        "colab_type": "code",
        "outputId": "b084401e-52ad-4c7b-a536-e24bc3dc2884",
        "colab": {
          "base_uri": "https://localhost:8080/",
          "height": 35
        }
      },
      "source": [
        "x = [[2.]]\n",
        "m = tf.square(x)\n",
        "print(m)"
      ],
      "execution_count": 5,
      "outputs": [
        {
          "output_type": "stream",
          "text": [
            "tf.Tensor([[4.]], shape=(1, 1), dtype=float32)\n"
          ],
          "name": "stdout"
        }
      ]
    },
    {
      "cell_type": "markdown",
      "metadata": {
        "id": "WGLoIPrQ6ZYT",
        "colab_type": "text"
      },
      "source": [
        "Also can call `.numpy` to retrieve the results of the tensor as a numpy array.[Useful for people who are familiar with pytorch or numpy]"
      ]
    },
    {
      "cell_type": "code",
      "metadata": {
        "id": "-FGFGbZq6fRo",
        "colab_type": "code",
        "outputId": "6b58fea0-813d-45de-b6ea-54c437e4789c",
        "colab": {
          "base_uri": "https://localhost:8080/",
          "height": 35
        }
      },
      "source": [
        "m.numpy()"
      ],
      "execution_count": 6,
      "outputs": [
        {
          "output_type": "execute_result",
          "data": {
            "text/plain": [
              "array([[4.]], dtype=float32)"
            ]
          },
          "metadata": {
            "tags": []
          },
          "execution_count": 6
        }
      ]
    },
    {
      "cell_type": "markdown",
      "metadata": {
        "id": "l9Xlu7in6m22",
        "colab_type": "text"
      },
      "source": [
        "compute an operation including two tensors "
      ]
    },
    {
      "cell_type": "code",
      "metadata": {
        "id": "d4tKJJ90_QMM",
        "colab_type": "code",
        "outputId": "74b73158-045d-41c9-d44e-9b2ce9daee66",
        "colab": {
          "base_uri": "https://localhost:8080/",
          "height": 71
        }
      },
      "source": [
        "a = tf.constant([[1, 2],\n",
        "                 [3, 4]])\n",
        "\n",
        "b = tf.constant([[2, 1],\n",
        "                 [3, 4]])\n",
        "\n",
        "ab = tf.matmul(a, b)\n",
        "\n",
        "print('a * b = \\n', ab.numpy())"
      ],
      "execution_count": 7,
      "outputs": [
        {
          "output_type": "stream",
          "text": [
            "a * b = \n",
            " [[ 8  9]\n",
            " [18 19]]\n"
          ],
          "name": "stdout"
        }
      ]
    },
    {
      "cell_type": "markdown",
      "metadata": {
        "id": "V5qlVJygETcb",
        "colab_type": "text"
      },
      "source": [
        "# Constants and Variables [Understand the difference]\n",
        "\n",
        "\n",
        "*   `tf.constant`, creates a constant tensor populated with the values as argument. The values are immutable. \n",
        "*   `tf.Variable `, this method encapsultes a mutable tensor that can be changed later using assign. \n",
        "(From official tensorflow documentation.)\n"
      ]
    },
    {
      "cell_type": "markdown",
      "metadata": {
        "id": "ayMVXFj1FZxz",
        "colab_type": "text"
      },
      "source": [
        "Create a constant tensor "
      ]
    },
    {
      "cell_type": "code",
      "metadata": {
        "id": "g2KFQKSLFNlS",
        "colab_type": "code",
        "outputId": "8c6a8616-f326-4259-dd4d-1ebb07a16e16",
        "colab": {
          "base_uri": "https://localhost:8080/",
          "height": 35
        }
      },
      "source": [
        "a = tf.constant([[2,3]])\n",
        "print(a)"
      ],
      "execution_count": 8,
      "outputs": [
        {
          "output_type": "stream",
          "text": [
            "tf.Tensor([[2 3]], shape=(1, 2), dtype=int32)\n"
          ],
          "name": "stdout"
        }
      ]
    },
    {
      "cell_type": "markdown",
      "metadata": {
        "id": "mn8uX4t5FtHp",
        "colab_type": "text"
      },
      "source": [
        "As we discussed constant tensor is immutable so we cannot assign a new value to it. Let's see an example for this"
      ]
    },
    {
      "cell_type": "code",
      "metadata": {
        "id": "xrJqeZfgHU-j",
        "colab_type": "code",
        "outputId": "386fa725-2efe-45a8-f1c0-267db5f6b8b4",
        "colab": {
          "base_uri": "https://localhost:8080/",
          "height": 35
        }
      },
      "source": [
        "try:\n",
        "  a.assign([[3,4]])\n",
        "except:\n",
        "  print('Exception raised trying to change immutable tensor ')"
      ],
      "execution_count": 11,
      "outputs": [
        {
          "output_type": "stream",
          "text": [
            "Exception raised trying to change immutable tensor \n"
          ],
          "name": "stdout"
        }
      ]
    },
    {
      "cell_type": "markdown",
      "metadata": {
        "id": "lrgbhCu8H3rm",
        "colab_type": "text"
      },
      "source": [
        "On the other hand variables are mutable and can be assigned a new value"
      ]
    },
    {
      "cell_type": "code",
      "metadata": {
        "id": "WSMIotOQFw2F",
        "colab_type": "code",
        "outputId": "915e2ae9-93f8-4268-9988-8018b33f0ea0",
        "colab": {
          "base_uri": "https://localhost:8080/",
          "height": 53
        }
      },
      "source": [
        "v = tf.Variable(5.)\n",
        "\n",
        "print('previous value v =', v.numpy())\n",
        "v.assign(2.)\n",
        "print('Current value v =', v.numpy())"
      ],
      "execution_count": 12,
      "outputs": [
        {
          "output_type": "stream",
          "text": [
            "previous value v = 5.0\n",
            "Current value v = 2.0\n"
          ],
          "name": "stdout"
        }
      ]
    },
    {
      "cell_type": "markdown",
      "metadata": {
        "id": "se0MFrEwMXWo",
        "colab_type": "text"
      },
      "source": [
        "increment/decrement the value of a tensor "
      ]
    },
    {
      "cell_type": "code",
      "metadata": {
        "id": "d9M50PpdMzEn",
        "colab_type": "code",
        "outputId": "192ac492-7d2c-47c3-fa08-1ae3508510a7",
        "colab": {
          "base_uri": "https://localhost:8080/",
          "height": 71
        }
      },
      "source": [
        "v.assign(2.)\n",
        "print('value     : ', v.numpy())\n",
        "print('increment : ', tf.assign_add(v, 1).numpy())\n",
        "print('decrement : ', tf.assign_sub(v, 1).numpy())"
      ],
      "execution_count": 13,
      "outputs": [
        {
          "output_type": "stream",
          "text": [
            "value     :  2.0\n",
            "increment :  3.0\n",
            "decrement :  2.0\n"
          ],
          "name": "stdout"
        }
      ]
    },
    {
      "cell_type": "markdown",
      "metadata": {
        "id": "FtGAYUUWI8bX",
        "colab_type": "text"
      },
      "source": [
        "You can return many information from a tensor variable same as numpy, like the name, type , shape and what device it executes on. "
      ]
    },
    {
      "cell_type": "code",
      "metadata": {
        "id": "2wQMtx3QJBSg",
        "colab_type": "code",
        "outputId": "914abefd-e6bc-404f-a63d-7f96de4c9e82",
        "colab": {
          "base_uri": "https://localhost:8080/",
          "height": 89
        }
      },
      "source": [
        "print('name  : ', v.name)\n",
        "print('type  : ', v.dtype)\n",
        "print('shape : ', v.shape)\n",
        "print('device: ', v.device)"
      ],
      "execution_count": 14,
      "outputs": [
        {
          "output_type": "stream",
          "text": [
            "name  :  Variable:0\n",
            "type  :  <dtype: 'float32'>\n",
            "shape :  ()\n",
            "device:  /job:localhost/replica:0/task:0/device:GPU:0\n"
          ],
          "name": "stdout"
        }
      ]
    },
    {
      "cell_type": "markdown",
      "metadata": {
        "id": "5irSm-yDN0nV",
        "colab_type": "text"
      },
      "source": [
        "# Gradient Evaluation[Imp Concept]"
      ]
    },
    {
      "cell_type": "markdown",
      "metadata": {
        "id": "y36ig_TVAAoM",
        "colab_type": "text"
      },
      "source": [
        "Gradient evaluation is very important machine learning because it is based on function optimization. You can use `tf.GradientTape()` method to record the gradient of an arbitrary function"
      ]
    },
    {
      "cell_type": "code",
      "metadata": {
        "id": "bdZmXyAi_3M3",
        "colab_type": "code",
        "outputId": "8146082e-9f7c-4ff2-caab-03290b982bf8",
        "colab": {
          "base_uri": "https://localhost:8080/",
          "height": 35
        }
      },
      "source": [
        "w = tf.Variable(2.0)\n",
        "\n",
        "#watch the gradient of the loss operation\n",
        "with tf.GradientTape() as tape:\n",
        "  loss = w * w\n",
        "\n",
        "grad = tape.gradient(loss, w)\n",
        "print(f'The gradient of w^2 at {w.numpy()} is {grad.numpy()}')"
      ],
      "execution_count": 15,
      "outputs": [
        {
          "output_type": "stream",
          "text": [
            "The gradient of w^2 at 2.0 is 4.0\n"
          ],
          "name": "stdout"
        }
      ]
    },
    {
      "cell_type": "markdown",
      "metadata": {
        "id": "qEMEMfV8Pwvt",
        "colab_type": "text"
      },
      "source": [
        "We can also compute the gradient directly using `gradients_function`. In this example we evaluate the gradient of the sigmoid function \n",
        "\n",
        "$$f(x) = \\frac{1}{1+e^{-x}}$$\n",
        "\n",
        "Note that \n",
        "\n",
        "$$f'(x) = \\frac{e^{-x}}{(1+e^{-x})^2} = f(x)(1-f(x)) $$"
      ]
    },
    {
      "cell_type": "code",
      "metadata": {
        "id": "nrw-DuoWP0A6",
        "colab_type": "code",
        "outputId": "2a2345f6-d0b5-4be7-bd20-9219c492593c",
        "colab": {
          "base_uri": "https://localhost:8080/",
          "height": 35
        }
      },
      "source": [
        "import tensorflow.contrib.eager as tfe \n",
        "\n",
        "def sigmoid(x):\n",
        "  return 1/(1 + tf.exp(-x))\n",
        "\n",
        "grad_sigmoid = tfe.gradients_function(sigmoid)\n",
        "\n",
        "print('The gradient of the sigmoid function at 2.0 is ', grad_sigmoid(2.0)[0].numpy())"
      ],
      "execution_count": 16,
      "outputs": [
        {
          "output_type": "stream",
          "text": [
            "The gradient of the sigmoid function at 2.0 is  0.104993574\n"
          ],
          "name": "stdout"
        }
      ]
    },
    {
      "cell_type": "markdown",
      "metadata": {
        "id": "Jew_BsZaYeVz",
        "colab_type": "text"
      },
      "source": [
        "You can also compute higher order derivatives by nesting a gradient functions. For instance, \n",
        "\n",
        "$$f(x) = \\log(x) , f'(x) = \\frac{1}{x}, f''(x) = \\frac{-1}{x^2}$$"
      ]
    },
    {
      "cell_type": "code",
      "metadata": {
        "id": "UoFFIr_AXUnm",
        "colab_type": "code",
        "outputId": "1724a49b-2d07-4d23-cc99-45203aee686b",
        "colab": {
          "base_uri": "https://localhost:8080/",
          "height": 71
        }
      },
      "source": [
        "dx = tfe.gradients_function\n",
        "\n",
        "def log(x):\n",
        "  return tf.log(x)\n",
        "\n",
        "dx_log = dx(log)\n",
        "dx2_log = dx(dx(log))\n",
        "dx3_log = dx(dx(dx(log)))\n",
        "\n",
        "print('The first  derivative of log at x = 1 is ', dx_log(1.)[0].numpy())\n",
        "print('The second derivative of log at x = 1 is ', dx2_log(1.)[0].numpy())\n",
        "print('The third  derivative of log at x = 1 is ', dx3_log(1.)[0].numpy())"
      ],
      "execution_count": 17,
      "outputs": [
        {
          "output_type": "stream",
          "text": [
            "The first  derivative of log at x = 1 is  1.0\n",
            "The second derivative of log at x = 1 is  -1.0\n",
            "The third  derivative of log at x = 1 is  2.0\n"
          ],
          "name": "stdout"
        }
      ]
    },
    {
      "cell_type": "markdown",
      "metadata": {
        "id": "hBVnUE6DRDFw",
        "colab_type": "text"
      },
      "source": [
        "# Custom Gradients\n",
        "\n",
        "Some times the gradient is not what we want espeically if there is a problem in numerical instabilitiy. Consider the following function and its gradient \n",
        "\n",
        "$$f(x) = \\log(1+e^x)$$\n",
        "\n",
        "The gradient is \n",
        "\n",
        "$$f'(x) = \\frac{e^x}{1+e^x}$$\n",
        "\n",
        "Note that at big values of $x$ the gradient value will blow up."
      ]
    },
    {
      "cell_type": "code",
      "metadata": {
        "id": "autHEivlRp9M",
        "colab_type": "code",
        "outputId": "3e63e0d8-91c0-464d-b370-1bc28055ccd2",
        "colab": {
          "base_uri": "https://localhost:8080/",
          "height": 53
        }
      },
      "source": [
        "def logexp(x):\n",
        "  return tf.log(1 + tf.exp(x))\n",
        "grad_logexp = tfe.gradients_function(logexp)\n",
        "\n",
        "print('The gradient at x = 0  is ', grad_logexp(0.)[0].numpy())  \n",
        "\n",
        "print('The gradient at x = 100 is ', grad_logexp(100.)[0].numpy()) "
      ],
      "execution_count": 18,
      "outputs": [
        {
          "output_type": "stream",
          "text": [
            "The gradient at x = 0  is  0.5\n",
            "The gradient at x = 100 is  nan\n"
          ],
          "name": "stdout"
        }
      ]
    },
    {
      "cell_type": "markdown",
      "metadata": {
        "id": "c19m7XawUR1a",
        "colab_type": "text"
      },
      "source": [
        " We can revaluate the gradient by overriding the gradient of the function. We can recompute the gradient as \n",
        "\n",
        "$$f(x) =  \\frac{1+e^x -e^x }{1+e^x} = 1 - \\frac{1}{1 + e^{x}}$$"
      ]
    },
    {
      "cell_type": "code",
      "metadata": {
        "id": "EmPT2S6XUJ8C",
        "colab_type": "code",
        "outputId": "ef291a72-8f07-4238-8160-a1854902e78d",
        "colab": {
          "base_uri": "https://localhost:8080/",
          "height": 35
        }
      },
      "source": [
        "@tf.custom_gradient\n",
        "def logexp_stable(x):\n",
        "  e = tf.exp(x)\n",
        "  #dy is optional, allows computation of vector jacobian products for vectors other than the vector of ones.\n",
        "  def grad(dy):\n",
        "    return dy * (1 - 1 / (1 + e))\n",
        "  return tf.log(1 + e), grad\n",
        "\n",
        "grad_logexp_stable = tfe.gradients_function(logexp_stable)\n",
        "\n",
        "print('The gradient at x = 100 is ', grad_logexp_stable(100.)[0].numpy()) "
      ],
      "execution_count": 19,
      "outputs": [
        {
          "output_type": "stream",
          "text": [
            "The gradient at x = 100 is  1.0\n"
          ],
          "name": "stdout"
        }
      ]
    },
    {
      "cell_type": "markdown",
      "metadata": {
        "id": "WhLnr59mdFh2",
        "colab_type": "text"
      },
      "source": [
        "# Execution Callbacks"
      ]
    },
    {
      "cell_type": "markdown",
      "metadata": {
        "id": "vF0MR4mPdduw",
        "colab_type": "text"
      },
      "source": [
        "`add_execution_callback` can be used to monitor the execution of operations. These functions will be called when any function is executed eagerly. In this example we record the operation names."
      ]
    },
    {
      "cell_type": "code",
      "metadata": {
        "id": "a3ybT2GPdLqU",
        "colab_type": "code",
        "outputId": "c148bcc4-b743-498b-e2dd-968393a228ff",
        "colab": {
          "base_uri": "https://localhost:8080/",
          "height": 89
        }
      },
      "source": [
        "#create a callback that records the operation name \n",
        "def print_op(op_type, op_name, attrs, inputs, outputs):\n",
        "  print(op_type)\n",
        "  \n",
        "#clear previous callbacks\n",
        "tfe.clear_execution_callbacks() \n",
        "\n",
        "#add the callback \n",
        "tfe.add_execution_callback(print_op)\n",
        "\n",
        "#try runing an operation \n",
        "x = tf.pow(2.0, 3.0) - 3.0\n",
        "x = x + 5.0\n",
        "x = x / 1.75\n",
        "\n",
        "#clear the callback \n",
        "tfe.clear_execution_callbacks() "
      ],
      "execution_count": 21,
      "outputs": [
        {
          "output_type": "stream",
          "text": [
            "Pow\n",
            "Sub\n",
            "Add\n",
            "RealDiv\n"
          ],
          "name": "stdout"
        }
      ]
    },
    {
      "cell_type": "markdown",
      "metadata": {
        "id": "qofbAYzRO3IW",
        "colab_type": "text"
      },
      "source": [
        "# Object Oriented Metrics\n",
        "We can use `metrics` to record tensors/values and operate on them at the end. This is useful when recording the training history and you want to evaluate it at the end. Use `.result()` to evaluate the metric at the end. "
      ]
    },
    {
      "cell_type": "code",
      "metadata": {
        "id": "u4DkG8BBO74o",
        "colab_type": "code",
        "outputId": "50a00981-4358-4233-c4c7-69757675908a",
        "colab": {
          "base_uri": "https://localhost:8080/",
          "height": 35
        }
      },
      "source": [
        "m = tfe.metrics.Mean(\"loss\")\n",
        "\n",
        "#record the loss \n",
        "m(2)\n",
        "m(4)\n",
        "\n",
        "print('The mean loss is ', m.result().numpy())"
      ],
      "execution_count": 22,
      "outputs": [
        {
          "output_type": "stream",
          "text": [
            "The mean loss is  3.0\n"
          ],
          "name": "stdout"
        }
      ]
    },
    {
      "cell_type": "markdown",
      "metadata": {
        "id": "erOTyJXWbHNJ",
        "colab_type": "text"
      },
      "source": [
        "If you want to remove the recorded values, you can reinstintiate the variables "
      ]
    },
    {
      "cell_type": "code",
      "metadata": {
        "id": "VJ20YHw9bILA",
        "colab_type": "code",
        "outputId": "56d41b66-9fb5-4a0a-8307-b2712ba19be0",
        "colab": {
          "base_uri": "https://localhost:8080/",
          "height": 35
        }
      },
      "source": [
        "m.init_variables()\n",
        "print('The mean loss is ', m.result().numpy())"
      ],
      "execution_count": 23,
      "outputs": [
        {
          "output_type": "stream",
          "text": [
            "The mean loss is  nan\n"
          ],
          "name": "stdout"
        }
      ]
    },
    {
      "cell_type": "markdown",
      "metadata": {
        "id": "hbIHKtEEbujP",
        "colab_type": "text"
      },
      "source": [
        "# Linear Regression \n",
        "To get you to think in terms of neural architectures, we will approach the problem of estimating\n",
        "good regression models from the perspective of incremental learning.  In other words, instead of\n",
        "using the normal equations to directly solve for a closed-form solution, we will search for optima\n",
        "(particularly minima) by iteratively calculating partial derivatives (of some cost function with respect\n",
        "to parameters) and taking steps down the resultant error landscape. The ideas you will develop and\n",
        "implement in this assignment will apply to learning the parameters of more complex computation\n",
        "graphs, including those that define convolutional neural networks and recurrent neural net.\n",
        "\n",
        "\n",
        "We create a complete example of using linear regression to predict the paramters of the function \n",
        "\n",
        "$$f(x) = 3 x + 2 + noise$$\n",
        "\n",
        "Given a point $x$ we want to predict the value of $y$. We train the model on 10000 data pairs $(x,f(x))$. \n",
        "\n",
        "The model to learn is a linear model \n",
        "\n",
        "$$\\hat{y} = W x + b$$\n",
        "\n",
        "Note that, we use `tf.GradientTape` to record the gradient with respect our trainable paramters.  \n",
        "\n",
        "We use Mean Square Error(MSE) to calcuate the loss \n",
        "\n",
        "$$g = (y-\\hat{y})^2$$\n",
        "\n",
        "Other loss function which can be used for eg L1\n",
        "$$g = (y - \\hat{y}) $$\n",
        "\n",
        "\n",
        "We use Gradient Descent to update the paramters \n",
        "\n",
        "$$W = W - \\alpha  \\frac{\\partial g}{\\partial W}$$\n",
        "\n",
        "$$b = b - \\alpha  \\frac{\\partial g}{\\partial b}$$"
      ]
    },
    {
      "cell_type": "code",
      "metadata": {
        "id": "P7A5lcylAERT",
        "colab_type": "code",
        "outputId": "41a49472-e19d-415d-eb65-9b9d489ca337",
        "colab": {
          "base_uri": "https://localhost:8080/",
          "height": 125
        }
      },
      "source": [
        "#1000 data points \n",
        "NUM_EXAMPLES = 500\n",
        "\n",
        "#define inputs and outputs with some noise \n",
        "X = tf.random_normal([NUM_EXAMPLES])  #inputs \n",
        "noise = tf.random_normal([NUM_EXAMPLES]) #noise \n",
        "y = X * 3 + 2 + noise  #true output\n",
        "\n",
        "\n",
        "#create model paramters with initial values \n",
        "W = tf.Variable(0.)\n",
        "b = tf.Variable(0.)\n",
        "\n",
        "#training info\n",
        "train_steps = 2500\n",
        "learning_rate = 0.001\n",
        "\n",
        "for i in range(train_steps):\n",
        "  \n",
        "  #watch the gradient flow \n",
        "  with tf.GradientTape() as tape:\n",
        "    \n",
        "    #forward pass \n",
        "    yhat = X * W + b\n",
        "    \n",
        "    #calcuate the loss (difference squared error)\n",
        "    error = yhat - y\n",
        "    loss = tf.reduce_mean(tf.square(error))\n",
        "  \n",
        "  #evalute the gradient with the respect to the paramters\n",
        "  dW, db = tape.gradient(loss, [W, b])\n",
        "\n",
        "  #update the paramters using Gradient Descent  \n",
        "  W.assign_sub(dW * learning_rate)\n",
        "  b.assign_sub(db* learning_rate)\n",
        "\n",
        "  #print the loss every 20 iterations \n",
        "  if i % 500 == 0:\n",
        "    print(\"Loss at step {:03d}: {:.3f}\".format(i, loss))\n",
        "      \n",
        "print(f'W : {W.numpy()} , b  = {b.numpy()} ')"
      ],
      "execution_count": 40,
      "outputs": [
        {
          "output_type": "stream",
          "text": [
            "Loss at step 000: 14.065\n",
            "Loss at step 500: 2.817\n",
            "Loss at step 1000: 1.313\n",
            "Loss at step 1500: 1.112\n",
            "Loss at step 2000: 1.085\n",
            "W : 2.9625463485717773 , b  = 1.993432641029358 \n"
          ],
          "name": "stdout"
        }
      ]
    },
    {
      "cell_type": "code",
      "metadata": {
        "id": "oBqXDBIpEVzm",
        "colab_type": "code",
        "colab": {
          "base_uri": "https://localhost:8080/",
          "height": 287
        },
        "outputId": "f642342e-3dd2-4984-cc48-cad7e6b31a55"
      },
      "source": [
        "import matplotlib.pyplot as plt\n",
        "plt.plot(X, y, 'bo',label='org')\n",
        "plt.plot(X, y * W.numpy() + b.numpy(), 'r',\n",
        "         label=\"huber regression\")\n",
        "plt.legend()\n",
        "plt.show"
      ],
      "execution_count": 41,
      "outputs": [
        {
          "output_type": "execute_result",
          "data": {
            "text/plain": [
              "<function matplotlib.pyplot.show>"
            ]
          },
          "metadata": {
            "tags": []
          },
          "execution_count": 41
        },
        {
          "output_type": "display_data",
          "data": {
            "image/png": "[encoded data removed]",
            "text/plain": [
              "<Figure size 432x288 with 1 Axes>"
            ]
          },
          "metadata": {
            "tags": []
          }
        }
      ]
    },
    {
      "cell_type": "markdown",
      "metadata": {
        "id": "Xy73ewUiZ09A",
        "colab_type": "text"
      },
      "source": [
        "# Things to Do[Homework Part 1             Point = 3]\n",
        "NOTE:- All submissions should use NIPS latex template [https://nips.cc/Conferences/2019/PaperInformation/StyleFiles].\n",
        "Pdf generated from NIPS template would only be accepted rest all would lead to zero points.\n",
        "\n",
        "  * Fork repo [https://github.com/AnkurMali/IST597_Fall2019_TF2.0] and modify file lin_reg.py.\n",
        "  * Change the loss function,which loss function works better and why?Write mathematical formulation for each loss function\n",
        "  * Create hybrid loss function(For eg. L1 + L2)\n",
        "  * Change the learning rate.\n",
        "  * Use patience scheduling[Whenever loss do not change , divide the learning rate by half].\n",
        "  * Train for longer Duration.\n",
        "  * Change the initial value for W and B.What effect it has on end result?\n",
        "  * Change the level of noise.\n",
        "  * Use various type of noise.\n",
        "  * Add noise in data.\n",
        "  * Add noise in your weights.\n",
        "  * Add noise in your learning rate[For all above: Scheme can be per  epoch or per N epochs]\n",
        "  * How do these changes effect the performance?\n",
        "  * Do you think these changes will have the same effect (if any) on other classification problems and mathematical models?\n",
        "  * Plot the different result.\n",
        "  * Do you get the exact same results if you run the Notebook multiple times without changing any parameters? Why or why not?[Explain significance of seed].\n",
        "  * Use unique seed for each experiment[Note:- Convert your first name into decimal].\n",
        "  * Later report per epoch GPU vs CPU Time.\n",
        "  * Can you get an model which is robust to noise?Does model lead to faster convergence?Do you get better local minima?Is noise beneficial?  \n",
        "  * Collect everything and report your findings.\n"
      ]
    },
    {
      "cell_type": "markdown",
      "metadata": {
        "id": "bBk2spWDu6h1",
        "colab_type": "text"
      },
      "source": [
        "#Part-2 Logistic Regression [Point =5 ]\n",
        "\n",
        "Logistic regression is used to describe data and to explain the relationship between one dependent binary variable and one or more nominal, ordinal, interval or ratio-level independent variables.\n",
        "In this you will be using Fashion Mnist which is a dataset of Zalando's article images—consisting of a training set of 60,000 examples and a test set of 10,000 examples. Each example is a 28x28 grayscale image, associated with a label from 10 classe[https://github.com/zalandoresearch/fashion-mnist].FashionMnist is much harder than MNIST so getting accuracy in 90's is difficult. You can use whatever loss functions, optimizers, even models that you want, as long as your model is built in TensorFlow using eager execution[Remember no keras is allowed]\n",
        "\n",
        "#Things to Report\n",
        "\n",
        "* Fork repo [https://github.com/AnkurMali/IST597_Fall2019_TF2.0] and modify file log_reg.py.\n",
        "* TODO: This keyword means you have to implement specific section/function/formula.\n",
        "* Report should contain matplotlib plots from function plot_images and plot_weights.\n",
        "* Change the optimizer and report which one converges faster and which one reaches better local minima/generalizes better.[Now you can use tensorflow optimizer]\n",
        "* Train for longer epochs.\n",
        "* Change Train/Val split.Report if you observe any performance drop/gain.\n",
        "* Report Train/Val accuracy over time.\n",
        "* Does batch size have any effect on performance.\n",
        "* Report GPU vs CPU per epoch performance.\n",
        "* Do Model overfit?If so why and also report measures you took to avoid overfitting.\n",
        "* Bonus points[Cluster the weights using any clustering mechanism].\n",
        "\n"
      ]
    },
    {
      "cell_type": "code",
      "metadata": {
        "id": "RFjw6c7H_u1V",
        "colab_type": "code",
        "colab": {}
      },
      "source": [
        ""
      ],
      "execution_count": 0,
      "outputs": []
    }
  ]
}